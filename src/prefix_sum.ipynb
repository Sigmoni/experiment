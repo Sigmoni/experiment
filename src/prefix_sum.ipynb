{
 "cells": [
  {
   "cell_type": "code",
   "execution_count": 97,
   "metadata": {},
   "outputs": [],
   "source": [
    "import pandas as pd \n",
    "import numpy as np"
   ]
  },
  {
   "cell_type": "code",
   "execution_count": 98,
   "metadata": {},
   "outputs": [],
   "source": [
    "nbins = 16\n",
    "test = \"test6\"\n",
    "fdata = \"test/\" + test + \"_data.csv\"\n",
    "fquery = \"test/\" + test + \"_query.csv\""
   ]
  },
  {
   "cell_type": "code",
   "execution_count": 99,
   "metadata": {},
   "outputs": [
    {
     "data": {
      "text/html": [
       "<div>\n",
       "<style scoped>\n",
       "    .dataframe tbody tr th:only-of-type {\n",
       "        vertical-align: middle;\n",
       "    }\n",
       "\n",
       "    .dataframe tbody tr th {\n",
       "        vertical-align: top;\n",
       "    }\n",
       "\n",
       "    .dataframe thead th {\n",
       "        text-align: right;\n",
       "    }\n",
       "</style>\n",
       "<table border=\"1\" class=\"dataframe\">\n",
       "  <thead>\n",
       "    <tr style=\"text-align: right;\">\n",
       "      <th></th>\n",
       "      <th>QUANTITY</th>\n",
       "      <th>TAX</th>\n",
       "    </tr>\n",
       "  </thead>\n",
       "  <tbody>\n",
       "    <tr>\n",
       "      <th>0</th>\n",
       "      <td>17</td>\n",
       "      <td>0.02</td>\n",
       "    </tr>\n",
       "    <tr>\n",
       "      <th>1</th>\n",
       "      <td>36</td>\n",
       "      <td>0.06</td>\n",
       "    </tr>\n",
       "    <tr>\n",
       "      <th>2</th>\n",
       "      <td>8</td>\n",
       "      <td>0.02</td>\n",
       "    </tr>\n",
       "    <tr>\n",
       "      <th>3</th>\n",
       "      <td>28</td>\n",
       "      <td>0.06</td>\n",
       "    </tr>\n",
       "    <tr>\n",
       "      <th>4</th>\n",
       "      <td>24</td>\n",
       "      <td>0.04</td>\n",
       "    </tr>\n",
       "  </tbody>\n",
       "</table>\n",
       "</div>"
      ],
      "text/plain": [
       "   QUANTITY   TAX\n",
       "0        17  0.02\n",
       "1        36  0.06\n",
       "2         8  0.02\n",
       "3        28  0.06\n",
       "4        24  0.04"
      ]
     },
     "execution_count": 99,
     "metadata": {},
     "output_type": "execute_result"
    }
   ],
   "source": [
    "data = pd.read_csv(fdata)\n",
    "data.head()"
   ]
  },
  {
   "cell_type": "code",
   "execution_count": 100,
   "metadata": {},
   "outputs": [
    {
     "data": {
      "text/html": [
       "<div>\n",
       "<style scoped>\n",
       "    .dataframe tbody tr th:only-of-type {\n",
       "        vertical-align: middle;\n",
       "    }\n",
       "\n",
       "    .dataframe tbody tr th {\n",
       "        vertical-align: top;\n",
       "    }\n",
       "\n",
       "    .dataframe thead th {\n",
       "        text-align: right;\n",
       "    }\n",
       "</style>\n",
       "<table border=\"1\" class=\"dataframe\">\n",
       "  <thead>\n",
       "    <tr style=\"text-align: right;\">\n",
       "      <th></th>\n",
       "      <th>lb1</th>\n",
       "      <th>lb2</th>\n",
       "      <th>ub1</th>\n",
       "      <th>ub2</th>\n",
       "      <th>GT</th>\n",
       "    </tr>\n",
       "  </thead>\n",
       "  <tbody>\n",
       "    <tr>\n",
       "      <th>0</th>\n",
       "      <td>19.155929</td>\n",
       "      <td>0.021180</td>\n",
       "      <td>31.666566</td>\n",
       "      <td>0.033354</td>\n",
       "      <td>8139.0</td>\n",
       "    </tr>\n",
       "    <tr>\n",
       "      <th>1</th>\n",
       "      <td>13.940659</td>\n",
       "      <td>0.061838</td>\n",
       "      <td>47.710976</td>\n",
       "      <td>0.075778</td>\n",
       "      <td>23468.0</td>\n",
       "    </tr>\n",
       "    <tr>\n",
       "      <th>2</th>\n",
       "      <td>2.573148</td>\n",
       "      <td>0.054048</td>\n",
       "      <td>47.615124</td>\n",
       "      <td>0.066391</td>\n",
       "      <td>31066.0</td>\n",
       "    </tr>\n",
       "    <tr>\n",
       "      <th>3</th>\n",
       "      <td>2.582024</td>\n",
       "      <td>0.008924</td>\n",
       "      <td>15.993050</td>\n",
       "      <td>0.037829</td>\n",
       "      <td>26992.0</td>\n",
       "    </tr>\n",
       "    <tr>\n",
       "      <th>4</th>\n",
       "      <td>28.299891</td>\n",
       "      <td>0.054430</td>\n",
       "      <td>30.270209</td>\n",
       "      <td>0.072882</td>\n",
       "      <td>2709.0</td>\n",
       "    </tr>\n",
       "  </tbody>\n",
       "</table>\n",
       "</div>"
      ],
      "text/plain": [
       "         lb1       lb2        ub1       ub2       GT\n",
       "0  19.155929  0.021180  31.666566  0.033354   8139.0\n",
       "1  13.940659  0.061838  47.710976  0.075778  23468.0\n",
       "2   2.573148  0.054048  47.615124  0.066391  31066.0\n",
       "3   2.582024  0.008924  15.993050  0.037829  26992.0\n",
       "4  28.299891  0.054430  30.270209  0.072882   2709.0"
      ]
     },
     "execution_count": 100,
     "metadata": {},
     "output_type": "execute_result"
    }
   ],
   "source": [
    "query = pd.read_csv(fquery)\n",
    "query.head()"
   ]
  },
  {
   "cell_type": "code",
   "execution_count": 101,
   "metadata": {},
   "outputs": [
    {
     "data": {
      "text/html": [
       "<div>\n",
       "<style scoped>\n",
       "    .dataframe tbody tr th:only-of-type {\n",
       "        vertical-align: middle;\n",
       "    }\n",
       "\n",
       "    .dataframe tbody tr th {\n",
       "        vertical-align: top;\n",
       "    }\n",
       "\n",
       "    .dataframe thead th {\n",
       "        text-align: right;\n",
       "    }\n",
       "</style>\n",
       "<table border=\"1\" class=\"dataframe\">\n",
       "  <thead>\n",
       "    <tr style=\"text-align: right;\">\n",
       "      <th></th>\n",
       "      <th>QUANTITY</th>\n",
       "      <th>TAX</th>\n",
       "    </tr>\n",
       "  </thead>\n",
       "  <tbody>\n",
       "    <tr>\n",
       "      <th>0</th>\n",
       "      <td>0.326531</td>\n",
       "      <td>0.25</td>\n",
       "    </tr>\n",
       "    <tr>\n",
       "      <th>1</th>\n",
       "      <td>0.714286</td>\n",
       "      <td>0.75</td>\n",
       "    </tr>\n",
       "    <tr>\n",
       "      <th>2</th>\n",
       "      <td>0.142857</td>\n",
       "      <td>0.25</td>\n",
       "    </tr>\n",
       "    <tr>\n",
       "      <th>3</th>\n",
       "      <td>0.551020</td>\n",
       "      <td>0.75</td>\n",
       "    </tr>\n",
       "    <tr>\n",
       "      <th>4</th>\n",
       "      <td>0.469388</td>\n",
       "      <td>0.50</td>\n",
       "    </tr>\n",
       "  </tbody>\n",
       "</table>\n",
       "</div>"
      ],
      "text/plain": [
       "   QUANTITY   TAX\n",
       "0  0.326531  0.25\n",
       "1  0.714286  0.75\n",
       "2  0.142857  0.25\n",
       "3  0.551020  0.75\n",
       "4  0.469388  0.50"
      ]
     },
     "execution_count": 101,
     "metadata": {},
     "output_type": "execute_result"
    }
   ],
   "source": [
    "data_max = data.max()\n",
    "data_min = data.min()\n",
    "data = (data - data_min) / (data_max - data_min)\n",
    "data.head()"
   ]
  },
  {
   "cell_type": "code",
   "execution_count": 102,
   "metadata": {},
   "outputs": [],
   "source": [
    "def calculate_hist(x, y, bins):\n",
    "    hist = np.zeros((bins, bins), dtype=np.float64)\n",
    "    for i in range(x.shape[0]):\n",
    "        X = np.trunc(bins * x[i]).astype(np.int64)\n",
    "        if (X == bins):\n",
    "            X = X - 1 \n",
    "        Y = np.trunc(bins * y[i]).astype(np.int64)\n",
    "        if (Y == bins):\n",
    "            Y = Y - 1\n",
    "        hist[X][Y] = hist[X][Y] + 1 \n",
    "    return hist"
   ]
  },
  {
   "cell_type": "code",
   "execution_count": 103,
   "metadata": {},
   "outputs": [],
   "source": [
    "def query_quantization(x, bins):\n",
    "    X = x * bins\n",
    "    nX = np.trunc(X).astype(np.int64)\n",
    "    if (nX == bins):\n",
    "        nX = nX - 1\n",
    "    rX = (X - nX).astype(np.float64)\n",
    "    return nX, rX"
   ]
  },
  {
   "cell_type": "code",
   "execution_count": 104,
   "metadata": {},
   "outputs": [],
   "source": [
    "def calculate_prefix(hist):\n",
    "    prefix = np.zeros(hist.shape)\n",
    "    for i in range(prefix.shape[0]):\n",
    "        for j in range(prefix.shape[0]):\n",
    "            if i == 0: \n",
    "                if j == 0:\n",
    "                    prefix[i][j] = hist[i][j]\n",
    "                else:\n",
    "                    prefix[i][j] = prefix[i][j - 1] + hist[i][j]\n",
    "            else:\n",
    "                if j == 0:\n",
    "                    prefix[i][j] = prefix[i - 1][j] + hist[i][j]\n",
    "                else:\n",
    "                    prefix[i][j] = prefix[i][j - 1] + prefix[i - 1][j] - prefix[i - 1][j - 1] + hist[i][j]\n",
    "    return prefix"
   ]
  },
  {
   "cell_type": "code",
   "execution_count": 105,
   "metadata": {},
   "outputs": [],
   "source": [
    "def calculate_prefix_sum(prefix, x, y):\n",
    "    if x == 0 or y == 0:\n",
    "        return 0\n",
    "    else:\n",
    "        return prefix[x - 1][y - 1]"
   ]
  },
  {
   "cell_type": "code",
   "execution_count": 106,
   "metadata": {},
   "outputs": [],
   "source": [
    "def calculate_baseline(prefix, qx, qy, rx, ry):\n",
    "    return (1 - rx) * (1 - ry) * calculate_prefix_sum(prefix, qx, qy) +\\\n",
    "           rx * (1 - ry) * calculate_prefix_sum(prefix, qx + 1, qy) +\\\n",
    "           ry * (1 - rx) * calculate_prefix_sum(prefix, qx, qy + 1) +\\\n",
    "           rx * ry * calculate_prefix_sum(prefix, qx + 1, qy + 1)"
   ]
  },
  {
   "cell_type": "code",
   "execution_count": 107,
   "metadata": {},
   "outputs": [],
   "source": [
    "def point_query(x, y, prefix, bins):\n",
    "    qx, rx = query_quantization(x, bins)\n",
    "    qy, ry = query_quantization(y, bins)\n",
    "    return calculate_baseline(prefix, qx, qy, rx, ry)"
   ]
  },
  {
   "cell_type": "code",
   "execution_count": 108,
   "metadata": {},
   "outputs": [
    {
     "name": "stdout",
     "output_type": "stream",
     "text": [
      "GMQ: 2.1484733003502083, 95th: 289.5403174650215\n"
     ]
    }
   ],
   "source": [
    "hist = calculate_hist(data.iloc[:, 0], data.iloc[:, 1], nbins)\n",
    "prefix = calculate_prefix(hist)\n",
    "\n",
    "Qerr = []\n",
    "\n",
    "for i in range(1000):\n",
    "    lb1 = query.iloc[i][\"lb1\"]\n",
    "    lb2 = query.iloc[i][\"lb2\"]\n",
    "    ub1 = query.iloc[i][\"ub1\"]\n",
    "    ub2 = query.iloc[i][\"ub2\"]\n",
    "    GT = query.iloc[i][\"GT\"]\n",
    "\n",
    "    lb1 = (lb1 - data_min) / (data_max - data_min)\n",
    "    lb2 = (lb2 - data_min) / (data_max - data_min)\n",
    "    ub1 = (ub1 - data_min) / (data_max - data_min)\n",
    "    ub2 = (ub2 - data_min) / (data_max - data_min)\n",
    "\n",
    "    lb1 = lb1.iloc[0].item()\n",
    "    lb2 = lb2.iloc[1].item()\n",
    "    ub1 = ub1.iloc[0].item()\n",
    "    ub2 = ub2.iloc[1].item()\n",
    "    GT = GT.item()\n",
    "\n",
    "    est = point_query(ub1, ub2, prefix, nbins)\n",
    "    est = est - point_query(lb1, ub2, prefix, nbins)\n",
    "    est = est - point_query(ub1, lb2, prefix, nbins)\n",
    "    est = est + point_query(lb1, lb2, prefix, nbins)\n",
    "\n",
    "    est = int(np.trunc(est))\n",
    "    est = max(est, 10)\n",
    "    GT = max(GT, 10)\n",
    "    qerr = max(GT / est, est / GT)\n",
    "    # print(f\"{est}, {GT}, {qerr}\")\n",
    "    Qerr.append(np.log(qerr))\n",
    "\n",
    "print(f\"GMQ: {np.exp(np.mean(Qerr))}, 95th: {np.exp(np.percentile(Qerr, 95))}\")"
   ]
  }
 ],
 "metadata": {
  "kernelspec": {
   "display_name": ".venv",
   "language": "python",
   "name": "python3"
  },
  "language_info": {
   "codemirror_mode": {
    "name": "ipython",
    "version": 3
   },
   "file_extension": ".py",
   "mimetype": "text/x-python",
   "name": "python",
   "nbconvert_exporter": "python",
   "pygments_lexer": "ipython3",
   "version": "3.11.5"
  }
 },
 "nbformat": 4,
 "nbformat_minor": 2
}
